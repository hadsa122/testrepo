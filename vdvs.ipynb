{
 "cells": [
  {
   "cell_type": "markdown",
   "id": "2a553dba-0833-4373-9e29-993cdf2ef0d1",
   "metadata": {},
   "source": [
    "In this notebook, Data Science Tools and Ecosystem are summarized."
   ]
  },
  {
   "cell_type": "markdown",
   "id": "1ca07fff-ba1d-43db-a5c8-d2a6c5c205da",
   "metadata": {},
   "source": [
    "Some of the popular languages that Data Scientists use are:\n",
    "1. Python\n",
    "2. R\n",
    "3. Julia\n"
   ]
  },
  {
   "cell_type": "markdown",
   "id": "8c486b36-777b-4499-bf48-dcbb3fa21e0d",
   "metadata": {},
   "source": [
    "Some of the commonly used libraries used by Data Scientists include:\n",
    "1. Pandas\n",
    "2. NumPy\n",
    "3. Matplotlib\n"
   ]
  },
  {
   "cell_type": "markdown",
   "id": "64b4d685-4933-4588-aa61-20385f8f919f",
   "metadata": {},
   "source": [
    "**Objectives:**\n",
    "\n",
    "- List popular languages for Data Science\n",
    "- Highlight commonly used libraries in Data Science\n",
    "- Showcase open source tools used in Data Science\n",
    "- Demonstrate arithmetic expression examples in Python\n",
    "- Explore code examples for converting units of time\n"
   ]
  },
  {
   "cell_type": "markdown",
   "id": "3e236422-85e8-4150-a7fe-6e4e03d716e7",
   "metadata": {
    "tags": []
   },
   "source": [
    "| Data Science Tools     |\n",
    "|------------------------|\n",
    "| Jupyter Notebook       |\n",
    "| RStudio                |\n",
    "| VS Code                |\n"
   ]
  },
  {
   "cell_type": "markdown",
   "id": "2f4b44dd-d99c-4cf3-af7f-ec271b6566e9",
   "metadata": {},
   "source": [
    "### Below are a few examples of evaluating arithmetic expressions in Python.\n"
   ]
  },
  {
   "cell_type": "code",
   "execution_count": 3,
   "id": "42a96f08-a084-498f-8185-5d98f35cb8bb",
   "metadata": {
    "tags": []
   },
   "outputs": [
    {
     "data": {
      "text/plain": [
       "17"
      ]
     },
     "execution_count": 3,
     "metadata": {},
     "output_type": "execute_result"
    }
   ],
   "source": [
    "#This a simple arithmetic expression to mutiply then add integers\n",
    "(3*4)+5"
   ]
  },
  {
   "cell_type": "code",
   "execution_count": 8,
   "id": "67b68b82-2c0e-49eb-8dba-ffb1f8edec0a",
   "metadata": {
    "tags": []
   },
   "outputs": [
    {
     "name": "stdout",
     "output_type": "stream",
     "text": [
      "3.3333333333333335 hours\n"
     ]
    }
   ],
   "source": [
    "#This will convert 200 minutes to hours by diving by 60\n",
    "x=200/60\n",
    "print(str(x)+' hours')"
   ]
  },
  {
   "cell_type": "markdown",
   "id": "fb1166f2-7713-4fa6-be2b-5f1d5692e3ac",
   "metadata": {
    "tags": []
   },
   "source": [
    "## Author\n",
    "Hadil Sahraoui\n",
    "\n"
   ]
  },
  {
   "cell_type": "code",
   "execution_count": null,
   "id": "fec2727c-197c-4a16-85e3-0addfae9fd5b",
   "metadata": {},
   "outputs": [],
   "source": []
  }
 ],
 "metadata": {
  "kernelspec": {
   "display_name": "Python",
   "language": "python",
   "name": "conda-env-python-py"
  },
  "language_info": {
   "codemirror_mode": {
    "name": "ipython",
    "version": 3
   },
   "file_extension": ".py",
   "mimetype": "text/x-python",
   "name": "python",
   "nbconvert_exporter": "python",
   "pygments_lexer": "ipython3",
   "version": "3.7.12"
  }
 },
 "nbformat": 4,
 "nbformat_minor": 5
}
